{
 "cells": [
  {
   "cell_type": "code",
   "execution_count": 1,
   "id": "a0c6b5e0",
   "metadata": {},
   "outputs": [
    {
     "name": "stdout",
     "output_type": "stream",
     "text": [
      "Hello World!\n"
     ]
    }
   ],
   "source": [
    "print(\"Hello World!\")"
   ]
  },
  {
   "cell_type": "code",
   "execution_count": 2,
   "id": "832d2425",
   "metadata": {},
   "outputs": [
    {
     "ename": "SyntaxError",
     "evalue": "invalid syntax (1400135394.py, line 1)",
     "output_type": "error",
     "traceback": [
      "\u001b[1;36m  Input \u001b[1;32mIn [2]\u001b[1;36m\u001b[0m\n\u001b[1;33m    print(\"Hi Guys! My Name is Pranjal. How are you doing\"?)\u001b[0m\n\u001b[1;37m                                                          ^\u001b[0m\n\u001b[1;31mSyntaxError\u001b[0m\u001b[1;31m:\u001b[0m invalid syntax\n"
     ]
    }
   ],
   "source": [
    "print(\"Hi Guys! My Name is Pranjal. How are you doing\"?)"
   ]
  },
  {
   "cell_type": "code",
   "execution_count": 3,
   "id": "4a933883",
   "metadata": {},
   "outputs": [
    {
     "name": "stdout",
     "output_type": "stream",
     "text": [
      "Hi guys! My name is Pranjal. How are you doing?\n"
     ]
    }
   ],
   "source": [
    "print(\"Hi guys! My name is Pranjal. How are you doing?\")"
   ]
  },
  {
   "cell_type": "code",
   "execution_count": 4,
   "id": "ddc65482",
   "metadata": {},
   "outputs": [
    {
     "name": "stdout",
     "output_type": "stream",
     "text": [
      "This time Iam using sngl Quotes!\n"
     ]
    }
   ],
   "source": [
    "print('This time Iam using sngl Quotes!')\n"
   ]
  },
  {
   "cell_type": "code",
   "execution_count": 5,
   "id": "1ad4beff",
   "metadata": {},
   "outputs": [
    {
     "ename": "SyntaxError",
     "evalue": "EOL while scanning string literal (4114647889.py, line 1)",
     "output_type": "error",
     "traceback": [
      "\u001b[1;36m  Input \u001b[1;32mIn [5]\u001b[1;36m\u001b[0m\n\u001b[1;33m    print(\"I Love Dogs')\u001b[0m\n\u001b[1;37m                        ^\u001b[0m\n\u001b[1;31mSyntaxError\u001b[0m\u001b[1;31m:\u001b[0m EOL while scanning string literal\n"
     ]
    }
   ],
   "source": [
    "print(\"I Love Dogs')"
   ]
  },
  {
   "cell_type": "code",
   "execution_count": 6,
   "id": "abefc220",
   "metadata": {},
   "outputs": [
    {
     "name": "stdout",
     "output_type": "stream",
     "text": [
      "10\n"
     ]
    }
   ],
   "source": [
    "x=10\n",
    "y=5\n",
    "print(x)"
   ]
  },
  {
   "cell_type": "code",
   "execution_count": 7,
   "id": "9ec852e4",
   "metadata": {},
   "outputs": [
    {
     "name": "stdout",
     "output_type": "stream",
     "text": [
      "78\n"
     ]
    }
   ],
   "source": [
    "x=29\n",
    "y=78\n",
    "print(y)"
   ]
  },
  {
   "cell_type": "code",
   "execution_count": 8,
   "id": "e0d19896",
   "metadata": {},
   "outputs": [
    {
     "name": "stdout",
     "output_type": "stream",
     "text": [
      "29\n"
     ]
    }
   ],
   "source": [
    "print(x)"
   ]
  },
  {
   "cell_type": "code",
   "execution_count": 9,
   "id": "a97f558d",
   "metadata": {},
   "outputs": [
    {
     "name": "stdout",
     "output_type": "stream",
     "text": [
      "-49\n"
     ]
    }
   ],
   "source": [
    "print(x-y)"
   ]
  },
  {
   "cell_type": "code",
   "execution_count": 10,
   "id": "991f90bb",
   "metadata": {},
   "outputs": [
    {
     "name": "stdout",
     "output_type": "stream",
     "text": [
      "2262\n"
     ]
    }
   ],
   "source": [
    "z=x*y\n",
    "print(z)"
   ]
  },
  {
   "cell_type": "code",
   "execution_count": 11,
   "id": "c5cad8f8",
   "metadata": {},
   "outputs": [
    {
     "name": "stdout",
     "output_type": "stream",
     "text": [
      "Sum of x & y = 107\n"
     ]
    }
   ],
   "source": [
    "print(\"Sum of x & y =\",x+y)"
   ]
  },
  {
   "cell_type": "code",
   "execution_count": 12,
   "id": "5941e455",
   "metadata": {},
   "outputs": [
    {
     "ename": "NameError",
     "evalue": "name 'Print' is not defined",
     "output_type": "error",
     "traceback": [
      "\u001b[1;31m---------------------------------------------------------------------------\u001b[0m",
      "\u001b[1;31mNameError\u001b[0m                                 Traceback (most recent call last)",
      "Input \u001b[1;32mIn [12]\u001b[0m, in \u001b[0;36m<cell line: 1>\u001b[1;34m()\u001b[0m\n\u001b[1;32m----> 1\u001b[0m \u001b[43mPrint\u001b[49m(\u001b[38;5;124m\"\u001b[39m\u001b[38;5;124mMultiplication of x & y =\u001b[39m\u001b[38;5;124m\"\u001b[39m \u001b[38;5;124m\"\u001b[39m\u001b[38;5;124m Multiplication of two\u001b[39m\u001b[38;5;124m\"\u001b[39m)\n",
      "\u001b[1;31mNameError\u001b[0m: name 'Print' is not defined"
     ]
    }
   ],
   "source": [
    "Print(\"Multiplication of x & y =\" \" Multiplication of two\")"
   ]
  },
  {
   "cell_type": "code",
   "execution_count": 13,
   "id": "c44550f0",
   "metadata": {},
   "outputs": [
    {
     "name": "stdout",
     "output_type": "stream",
     "text": [
      "multilication of X & y = 2262\n"
     ]
    }
   ],
   "source": [
    "print(\"multilication of X & y =\",x*y)"
   ]
  },
  {
   "cell_type": "code",
   "execution_count": 14,
   "id": "51387e3b",
   "metadata": {},
   "outputs": [
    {
     "name": "stdout",
     "output_type": "stream",
     "text": [
      " Division of x & y = 2262\n"
     ]
    }
   ],
   "source": [
    "print(\" Division of x & y =\", x*y)"
   ]
  },
  {
   "cell_type": "code",
   "execution_count": 15,
   "id": "63b98bf8",
   "metadata": {},
   "outputs": [
    {
     "name": "stdout",
     "output_type": "stream",
     "text": [
      "Addition of x & y= 107\n"
     ]
    }
   ],
   "source": [
    "print(\"Addition of x & y=\", x+y)"
   ]
  },
  {
   "cell_type": "code",
   "execution_count": 16,
   "id": "54a55366",
   "metadata": {},
   "outputs": [
    {
     "name": "stdout",
     "output_type": "stream",
     "text": [
      " Subtraction of x & y = -49\n"
     ]
    }
   ],
   "source": [
    "print(\" Subtraction of x & y =\", x-y)"
   ]
  },
  {
   "cell_type": "code",
   "execution_count": 18,
   "id": "da344586",
   "metadata": {},
   "outputs": [
    {
     "name": "stdout",
     "output_type": "stream",
     "text": [
      " the values of x & y are 29 & 78 respectively.\n"
     ]
    }
   ],
   "source": [
    "print(\" the values of x & y are\", x,\"&\",y,\"respectively.\")"
   ]
  },
  {
   "cell_type": "code",
   "execution_count": 19,
   "id": "eefd926f",
   "metadata": {},
   "outputs": [
    {
     "name": "stdout",
     "output_type": "stream",
     "text": [
      "the values of X & y are  29 & 78 respectively.\n"
     ]
    }
   ],
   "source": [
    "print(\"the values of X & y are \", x,\"&\",y, \"respectively.\")"
   ]
  },
  {
   "cell_type": "code",
   "execution_count": 20,
   "id": "1f2cf4a0",
   "metadata": {},
   "outputs": [
    {
     "name": "stdout",
     "output_type": "stream",
     "text": [
      "divion of x & y = 0.3717948717948718\n"
     ]
    }
   ],
   "source": [
    "print(\"divion of x & y =\", x/y)"
   ]
  },
  {
   "cell_type": "code",
   "execution_count": 21,
   "id": "4fdc2d29",
   "metadata": {},
   "outputs": [
    {
     "ename": "SyntaxError",
     "evalue": "unexpected EOF while parsing (2746445041.py, line 1)",
     "output_type": "error",
     "traceback": [
      "\u001b[1;36m  Input \u001b[1;32mIn [21]\u001b[1;36m\u001b[0m\n\u001b[1;33m    print(\"the values of x & y are =\", x,\"&\", y, \"respectively)\"\u001b[0m\n\u001b[1;37m                                                                ^\u001b[0m\n\u001b[1;31mSyntaxError\u001b[0m\u001b[1;31m:\u001b[0m unexpected EOF while parsing\n"
     ]
    }
   ],
   "source": [
    "print(\"the values of x & y are =\", x,\"&\", y, \"respectively)\""
   ]
  },
  {
   "cell_type": "code",
   "execution_count": 22,
   "id": "1766f52a",
   "metadata": {},
   "outputs": [
    {
     "name": "stdout",
     "output_type": "stream",
     "text": [
      "the values of x & y are = 29 & 78 respectively.\n"
     ]
    }
   ],
   "source": [
    "print(\"the values of x & y are =\", x,\"&\", y, \"respectively.\")"
   ]
  },
  {
   "cell_type": "code",
   "execution_count": 23,
   "id": "9d0efc1d",
   "metadata": {},
   "outputs": [
    {
     "name": "stdout",
     "output_type": "stream",
     "text": [
      "10\n"
     ]
    }
   ],
   "source": [
    "x=10\n",
    "y=5\n",
    "z=15\n",
    "print(x)"
   ]
  },
  {
   "cell_type": "code",
   "execution_count": 24,
   "id": "51613365",
   "metadata": {},
   "outputs": [
    {
     "name": "stdout",
     "output_type": "stream",
     "text": [
      "10\n"
     ]
    }
   ],
   "source": [
    "print(x)"
   ]
  },
  {
   "cell_type": "code",
   "execution_count": 25,
   "id": "c04e2e03",
   "metadata": {},
   "outputs": [
    {
     "name": "stdout",
     "output_type": "stream",
     "text": [
      "5\n"
     ]
    }
   ],
   "source": [
    "print(y)"
   ]
  },
  {
   "cell_type": "code",
   "execution_count": 26,
   "id": "23828f98",
   "metadata": {},
   "outputs": [
    {
     "name": "stdout",
     "output_type": "stream",
     "text": [
      "15\n"
     ]
    }
   ],
   "source": [
    "print(z)"
   ]
  },
  {
   "cell_type": "code",
   "execution_count": 27,
   "id": "9f0a53cb",
   "metadata": {},
   "outputs": [
    {
     "ename": "SyntaxError",
     "evalue": "unmatched ')' (2114440916.py, line 1)",
     "output_type": "error",
     "traceback": [
      "\u001b[1;36m  Input \u001b[1;32mIn [27]\u001b[1;36m\u001b[0m\n\u001b[1;33m    printx-y)\u001b[0m\n\u001b[1;37m            ^\u001b[0m\n\u001b[1;31mSyntaxError\u001b[0m\u001b[1;31m:\u001b[0m unmatched ')'\n"
     ]
    }
   ],
   "source": [
    "printx-y)"
   ]
  },
  {
   "cell_type": "code",
   "execution_count": 28,
   "id": "2512c096",
   "metadata": {},
   "outputs": [
    {
     "name": "stdout",
     "output_type": "stream",
     "text": [
      "5\n"
     ]
    }
   ],
   "source": [
    "print(x-y)"
   ]
  },
  {
   "cell_type": "code",
   "execution_count": 29,
   "id": "89996c14",
   "metadata": {},
   "outputs": [
    {
     "name": "stdout",
     "output_type": "stream",
     "text": [
      "25\n"
     ]
    }
   ],
   "source": [
    "print(z+x)"
   ]
  },
  {
   "cell_type": "code",
   "execution_count": 30,
   "id": "b0b0327e",
   "metadata": {},
   "outputs": [
    {
     "name": "stdout",
     "output_type": "stream",
     "text": [
      "0\n"
     ]
    }
   ],
   "source": [
    "print(x-x)"
   ]
  },
  {
   "cell_type": "code",
   "execution_count": 31,
   "id": "2c8fd6b7",
   "metadata": {},
   "outputs": [
    {
     "name": "stdout",
     "output_type": "stream",
     "text": [
      "sum of x & y=\n"
     ]
    }
   ],
   "source": [
    "print(\"sum of x & y=\")"
   ]
  },
  {
   "cell_type": "code",
   "execution_count": 32,
   "id": "d47712ff",
   "metadata": {},
   "outputs": [
    {
     "name": "stdout",
     "output_type": "stream",
     "text": [
      "sum of x & y= 15\n"
     ]
    }
   ],
   "source": [
    "print(\"sum of x & y=\", x+y)"
   ]
  },
  {
   "cell_type": "code",
   "execution_count": 33,
   "id": "ae22dd60",
   "metadata": {},
   "outputs": [
    {
     "name": "stdout",
     "output_type": "stream",
     "text": [
      "subtraction of z & y = 5\n"
     ]
    }
   ],
   "source": [
    "print(\"subtraction of z & y =\", z-x)"
   ]
  },
  {
   "cell_type": "code",
   "execution_count": 34,
   "id": "7e00a068",
   "metadata": {},
   "outputs": [
    {
     "name": "stdout",
     "output_type": "stream",
     "text": [
      "additio of x& y &y & z= 30\n"
     ]
    }
   ],
   "source": [
    "print(\"additio of x& y &y & z=\", x+y+z)"
   ]
  },
  {
   "cell_type": "code",
   "execution_count": 35,
   "id": "68817cc9",
   "metadata": {},
   "outputs": [
    {
     "name": "stdout",
     "output_type": "stream",
     "text": [
      "the values of x & y & z= 10 y 15 respectively.\n"
     ]
    }
   ],
   "source": [
    "print(\"the values of x & y & z=\", x,\"y\", z,\"respectively.\")"
   ]
  },
  {
   "cell_type": "code",
   "execution_count": 36,
   "id": "2862354b",
   "metadata": {},
   "outputs": [
    {
     "name": "stdout",
     "output_type": "stream",
     "text": [
      "product of x & y = 50\n"
     ]
    }
   ],
   "source": [
    "print(\"product of x & y =\", x*y)"
   ]
  },
  {
   "cell_type": "code",
   "execution_count": null,
   "id": "d3687992",
   "metadata": {},
   "outputs": [],
   "source": [
    "                                            \n"
   ]
  }
 ],
 "metadata": {
  "kernelspec": {
   "display_name": "Python 3 (ipykernel)",
   "language": "python",
   "name": "python3"
  },
  "language_info": {
   "codemirror_mode": {
    "name": "ipython",
    "version": 3
   },
   "file_extension": ".py",
   "mimetype": "text/x-python",
   "name": "python",
   "nbconvert_exporter": "python",
   "pygments_lexer": "ipython3",
   "version": "3.9.12"
  }
 },
 "nbformat": 4,
 "nbformat_minor": 5
}
